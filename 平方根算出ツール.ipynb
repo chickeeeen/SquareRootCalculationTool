{
  "nbformat": 4,
  "nbformat_minor": 0,
  "metadata": {
    "colab": {
      "name": "平方根算出ツール",
      "provenance": [],
      "authorship_tag": "ABX9TyMqYC09qcfalhxNv12ul6c6",
      "include_colab_link": true
    },
    "kernelspec": {
      "name": "python3",
      "display_name": "Python 3"
    },
    "language_info": {
      "name": "python"
    }
  },
  "cells": [
    {
      "cell_type": "markdown",
      "metadata": {
        "id": "view-in-github",
        "colab_type": "text"
      },
      "source": [
        "<a href=\"https://colab.research.google.com/github/chickenkundayo/SquareRootCalculationTool/blob/main/%E5%B9%B3%E6%96%B9%E6%A0%B9%E7%AE%97%E5%87%BA%E3%83%84%E3%83%BC%E3%83%AB.ipynb\" target=\"_parent\"><img src=\"https://colab.research.google.com/assets/colab-badge.svg\" alt=\"Open In Colab\"/></a>"
      ]
    },
    {
      "cell_type": "markdown",
      "metadata": {
        "id": "MqdeV1BOonP_"
      },
      "source": [
        "平方根を算出できます。"
      ]
    },
    {
      "cell_type": "code",
      "metadata": {
        "id": "M-UAODnconai"
      },
      "source": [
        "import math\n",
        "import numpy\n",
        "\n",
        "print(math.sqrt(97))\n",
        "#math.sqrt()の()に平方根を算出したい数値を入力しコードを上書き\n",
        "\n",
        "xs = numpy.arange(10)\n",
        "print(numpy.sqrt(xs))"
      ],
      "execution_count": null,
      "outputs": []
    }
  ]
}